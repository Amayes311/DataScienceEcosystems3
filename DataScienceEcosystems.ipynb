{
 "cells": [
  {
   "cell_type": "markdown",
   "id": "829caa0f-149f-4b70-a11b-572ca41b44f9",
   "metadata": {
    "tags": []
   },
   "source": [
    "# Data Science Tools and Ecosystems"
   ]
  },
  {
   "cell_type": "markdown",
   "id": "0cdaf9e2-b781-41ba-8bc0-adfa7ddc0dfb",
   "metadata": {
    "tags": []
   },
   "source": [
    "*In this notebook, Data Science Tools and Ecosystem are summarized.*"
   ]
  },
  {
   "cell_type": "markdown",
   "id": "12de7fd6-ccf1-4749-b7c3-e4296e7599ad",
   "metadata": {
    "tags": []
   },
   "source": [
    "*Some of the popular languages that Data Scientists use are:*"
   ]
  },
  {
   "cell_type": "markdown",
   "id": "e91bc4bc-f32e-4d0b-9da3-fe6f3cb172ee",
   "metadata": {
    "tags": []
   },
   "source": [
    "* Python\n",
    "* R\n",
    "* SQL"
   ]
  },
  {
   "cell_type": "markdown",
   "id": "332bed21-7f79-4c79-a2a3-8a78e5417050",
   "metadata": {
    "tags": []
   },
   "source": [
    "*Some of the commonly used libraries used by Data Scientists include:*"
   ]
  },
  {
   "cell_type": "markdown",
   "id": "7cd5b8fa-818a-4ed5-99c6-736beee6d896",
   "metadata": {
    "tags": []
   },
   "source": [
    "* Python Libraries- Contain built in modules providing different functionalities.\n",
    "* Scientific Libraries {Pandas, NumPy}\n",
    "* Visualization Libraries {Matplotlib, Seaborn}\n",
    "* Machine Learning and Deep Learning {SciKit, Keras, TensorFlow}\n",
    "* Scala Libraries- Vegas for statistical data visualizations."
   ]
  },
  {
   "cell_type": "markdown",
   "id": "6fbd1e22-5709-4f6c-bdbb-14b3aec67c5e",
   "metadata": {
    "tags": []
   },
   "source": [
    "# Table"
   ]
  },
  {
   "cell_type": "markdown",
   "id": "952c385b-6388-4ec4-b548-062e16890c65",
   "metadata": {},
   "source": [
    "|Data Science Tools|\n",
    "|----|\n",
    "|Zeppelin Notebooks|\n",
    "|Jupyter Notebooks|\n",
    "|R Studio|"
   ]
  },
  {
   "cell_type": "markdown",
   "id": "b77fa8a1-9492-4ab8-a5bb-f03937da297c",
   "metadata": {
    "tags": []
   },
   "source": [
    "### Below are a few examples of evaluating arithmetic expressions in Python"
   ]
  },
  {
   "cell_type": "markdown",
   "id": "be924fab-82b6-4e22-a179-fc8a6f60d5dc",
   "metadata": {
    "tags": []
   },
   "source": [
    "*This a simple arithmetic expression to mutiply then add integers*"
   ]
  },
  {
   "cell_type": "code",
   "execution_count": 24,
   "id": "f9a2abec-5812-447a-8a6d-3e74eaa98bab",
   "metadata": {
    "tags": []
   },
   "outputs": [
    {
     "data": {
      "text/plain": [
       "17"
      ]
     },
     "execution_count": 24,
     "metadata": {},
     "output_type": "execute_result"
    }
   ],
   "source": [
    "(3*4)+5"
   ]
  },
  {
   "cell_type": "markdown",
   "id": "440459fa-907c-4ae9-bb0f-77e63650e124",
   "metadata": {},
   "source": [
    "*This will convert 200 minutes to hours by diving by 60*"
   ]
  },
  {
   "cell_type": "code",
   "execution_count": 31,
   "id": "d51943de-c306-4772-bf30-9438fc183681",
   "metadata": {
    "tags": []
   },
   "outputs": [
    {
     "data": {
      "text/plain": [
       "3.3333333333333335"
      ]
     },
     "execution_count": 31,
     "metadata": {},
     "output_type": "execute_result"
    }
   ],
   "source": [
    "200/60"
   ]
  },
  {
   "cell_type": "markdown",
   "id": "4b496f42-3b6e-43bc-a82b-e0549eb3d8be",
   "metadata": {},
   "source": [
    "**Objectives**"
   ]
  },
  {
   "cell_type": "markdown",
   "id": "f5e23cd9-6e62-4c22-8801-a8612f228dcd",
   "metadata": {
    "tags": []
   },
   "source": [
    "*The purpose of analytics is to communicate findings to the concerned who might use these insights to formulate policy or strategy. Data Scientist use the insights to build the narrative to communicate the findings. Programs that are used to process this data are:*"
   ]
  },
  {
   "cell_type": "markdown",
   "id": "aff6a444-cf27-4c8c-bb72-45b0060c8bc2",
   "metadata": {},
   "source": [
    "* Python\n",
    "* R\n",
    "* SQL\n",
    "* C++\n",
    "* Java"
   ]
  },
  {
   "cell_type": "markdown",
   "id": "74f97e7f-6d49-43ce-bf2a-79e53f716289",
   "metadata": {},
   "source": [
    "## Author"
   ]
  },
  {
   "cell_type": "markdown",
   "id": "2c1d15a1-103c-4064-94b2-9604b84cf110",
   "metadata": {
    "tags": []
   },
   "source": [
    "## Alexis Mayes"
   ]
  }
 ],
 "metadata": {
  "kernelspec": {
   "display_name": "Python",
   "language": "python",
   "name": "conda-env-python-py"
  },
  "language_info": {
   "codemirror_mode": {
    "name": "ipython",
    "version": 3
   },
   "file_extension": ".py",
   "mimetype": "text/x-python",
   "name": "python",
   "nbconvert_exporter": "python",
   "pygments_lexer": "ipython3",
   "version": "3.7.12"
  }
 },
 "nbformat": 4,
 "nbformat_minor": 5
}
